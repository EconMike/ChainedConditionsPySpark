{
  "nbformat": 4,
  "nbformat_minor": 0,
  "metadata": {
    "colab": {
      "provenance": []
    },
    "kernelspec": {
      "name": "python3",
      "display_name": "Python 3"
    },
    "language_info": {
      "name": "python"
    }
  },
  "cells": [
    {
      "cell_type": "code",
      "execution_count": null,
      "metadata": {
        "id": "Sp47NGMRp5ve"
      },
      "outputs": [],
      "source": [
        "!apt-get install openjdk-8-jdk-headless -qq > /dev/null\n",
        "!wget -q http://archive.apache.org/dist/spark/spark-3.1.1/spark-3.1.1-bin-hadoop3.2.tgz\n",
        "!tar xf spark-3.1.1-bin-hadoop3.2.tgz\n",
        "!pip install -q findspark\n",
        "import os"
      ]
    },
    {
      "cell_type": "code",
      "source": [
        "!apt-get update\n",
        "!apt-get install openjdk-11-jdk -y\n",
        "!pip install pyspark"
      ],
      "metadata": {
        "id": "4XwUzK3hnM2E"
      },
      "execution_count": null,
      "outputs": []
    },
    {
      "cell_type": "code",
      "source": [
        "os.environ[\"JAVA_HOME\"] = \"/usr/lib/jvm/java-11-openjdk-amd64\"\n",
        "os.environ[\"SPARK_HOME\"] = \"/usr/local/lib/python3.11/dist-packages/pyspark\""
      ],
      "metadata": {
        "id": "T0B2JDZLpMnp"
      },
      "execution_count": null,
      "outputs": []
    },
    {
      "cell_type": "code",
      "source": [
        "!pip install pyngrok\n",
        "from pyngrok import ngrok"
      ],
      "metadata": {
        "id": "OHWm7ufbpMhJ"
      },
      "execution_count": null,
      "outputs": []
    },
    {
      "cell_type": "code",
      "source": [
        "#bring in Pyspark functions into your session\n",
        "from pyspark.sql.functions import *\n",
        "from pyspark.sql.functions import col"
      ],
      "metadata": {
        "id": "EEtZLvfIpMYq"
      },
      "execution_count": null,
      "outputs": []
    },
    {
      "cell_type": "code",
      "source": [
        "#Start our Pyspark session\n",
        "from pyspark.sql import SparkSession\n",
        "spark = SparkSession.builder.master(\"local[*]\").getOrCreate()"
      ],
      "metadata": {
        "id": "VB-WMviHpSxM"
      },
      "execution_count": null,
      "outputs": []
    },
    {
      "cell_type": "code",
      "source": [
        "\n",
        "#create our data\n",
        "data = [\n",
        "    (\"Alice\", 25, \"F\"),\n",
        "    (\"Bob\", 30, \"M\"),\n",
        "    (\"Charlie\", 35, \"M\"),\n",
        "    (\"Diana\", 40, \"F\")\n",
        "]\n",
        "\n",
        "columns = [\"name\", \"age\", \"gender\"]\n",
        "df = spark.createDataFrame(data, columns)\n",
        "df.show()\n"
      ],
      "metadata": {
        "id": "aeoAjvZApStL"
      },
      "execution_count": null,
      "outputs": []
    },
    {
      "cell_type": "markdown",
      "source": [
        "# The basics"
      ],
      "metadata": {
        "id": "vXycOU5vpZg8"
      }
    },
    {
      "cell_type": "markdown",
      "source": [
        "# Conditions with & (AND)"
      ],
      "metadata": {
        "id": "XAfPfZdPptbz"
      }
    },
    {
      "cell_type": "code",
      "source": [
        "#Get people aged over 30 AND female:\n",
        "\n",
        "df_filtered = df.filter( (col(\"age\") > 30) & (col(\"gender\") == \"F\") )\n",
        "df_filtered.show()\n"
      ],
      "metadata": {
        "id": "i4rZbFRlpSmz"
      },
      "execution_count": null,
      "outputs": []
    },
    {
      "cell_type": "markdown",
      "source": [
        "# Conditions with | (OR)"
      ],
      "metadata": {
        "id": "DAakKTqFnL0b"
      }
    },
    {
      "cell_type": "code",
      "source": [
        "#Get people aged over 30 OR female:\n",
        "\n",
        "df_filtered = df.filter( (col(\"age\") > 30) | (col(\"gender\") == \"F\") )\n",
        "df_filtered.show()\n"
      ],
      "metadata": {
        "id": "64lzSYVdqAzj"
      },
      "execution_count": null,
      "outputs": []
    },
    {
      "cell_type": "markdown",
      "source": [
        "# NOT Condition with ~"
      ],
      "metadata": {
        "id": "JxQaOjcYqPFD"
      }
    },
    {
      "cell_type": "code",
      "source": [
        "df_filtered = df.filter( ~(col(\"gender\") == \"F\") )\n",
        "df_filtered.show()\n"
      ],
      "metadata": {
        "id": "tsZ23f_oqTTT"
      },
      "execution_count": null,
      "outputs": []
    },
    {
      "cell_type": "markdown",
      "source": [
        "#Chained Conditions\n"
      ],
      "metadata": {
        "id": "qhJG9Y9cqX_r"
      }
    },
    {
      "cell_type": "code",
      "source": [
        "#Create our data\n",
        "data = [\n",
        "    (\"Alice\", 25, \"F\", 60000),\n",
        "    (\"Bob\", 30, \"M\", 48000),\n",
        "    (\"Charlie\", 35, \"M\", 70000),\n",
        "    (\"Diana\", 40, \"F\", 52000),\n",
        "    (\"Evan\", 28, \"M\", 35000),\n",
        "    (\"Fiona\", 32, \"F\", 75000)\n",
        "]\n",
        "\n",
        "columns = [\"name\", \"age\", \"gender\", \"salary\"]\n",
        "df = spark.createDataFrame(data, columns)\n",
        "df.show()"
      ],
      "metadata": {
        "id": "uhr970X-qXiL"
      },
      "execution_count": null,
      "outputs": []
    },
    {
      "cell_type": "markdown",
      "source": [
        "# Show me who are over 30 years old and whose Salary > 50,000, also include any females who are under 30.\n"
      ],
      "metadata": {
        "id": "3NP2T1PhrDei"
      }
    },
    {
      "cell_type": "code",
      "source": [
        "\n",
        "df_filtered = df.filter(\n",
        "    ((col(\"age\") > 30) & (col(\"salary\") > 50000)) |\n",
        "    ((col(\"gender\") == \"F\") & (col(\"age\") < 30))\n",
        ")\n",
        "df_filtered.show()\n"
      ],
      "metadata": {
        "id": "V_LLp1XaqphD"
      },
      "execution_count": null,
      "outputs": []
    },
    {
      "cell_type": "markdown",
      "source": [
        "# Show me anyhone whos name starts with 'A' or 'F' and  salary above 50,000\n"
      ],
      "metadata": {
        "id": "7Td_LgKbrl9U"
      }
    },
    {
      "cell_type": "code",
      "source": [
        "df_filtered = df.filter(\n",
        "    (col(\"name\").startswith(\"A\") | col(\"name\").startswith(\"F\")) &\n",
        "    (col(\"salary\") > 50000)\n",
        ")\n",
        "\n",
        "df_filtered.show()\n"
      ],
      "metadata": {
        "id": "gkwl0njLrBa6"
      },
      "execution_count": null,
      "outputs": []
    },
    {
      "cell_type": "markdown",
      "source": [
        "# Filter rows where salary is not < 50,000 OR Age < 30"
      ],
      "metadata": {
        "id": "GCThXWk6u1sz"
      }
    },
    {
      "cell_type": "code",
      "source": [
        "\n",
        "\n",
        "df_filtered = df.filter(\n",
        "    ~((col(\"salary\") < 50000) | (col(\"age\") < 30))\n",
        ")\n",
        "df_filtered.show()\n"
      ],
      "metadata": {
        "id": "O_kR8Xc9u2IU"
      },
      "execution_count": null,
      "outputs": []
    },
    {
      "cell_type": "markdown",
      "source": [
        "#Add a new column high_earner that is Yes if salary > 60,000 else No, then filter"
      ],
      "metadata": {
        "id": "chjUY4XWsJnS"
      }
    },
    {
      "cell_type": "code",
      "source": [
        "df2 = df.withColumn(\n",
        "    \"high_earner\",\n",
        "    when(col(\"salary\") > 60000, \"Yes\").otherwise(\"No\")\n",
        ")\n",
        "\n",
        "df_filtered = df2.filter(col(\"high_earner\") == \"Yes\")\n",
        "df_filtered.show()\n"
      ],
      "metadata": {
        "id": "tpKqOVJlsLzD"
      },
      "execution_count": null,
      "outputs": []
    },
    {
      "cell_type": "markdown",
      "source": [
        "#Create a new column that categorizes age group, then fliter"
      ],
      "metadata": {
        "id": "cVsK-vBKsaeC"
      }
    },
    {
      "cell_type": "code",
      "source": [
        "df2 = df.withColumn(\n",
        "    \"age_group\",\n",
        "    when(col(\"age\") < 30, \"Young\")\n",
        "    .when((col(\"age\") >= 30) & (col(\"age\") <= 40), \"Middle-aged\")\n",
        "    .otherwise(\"Senior\")\n",
        ")\n",
        "\n",
        "df_filtered = df2.filter(col(\"age_group\") == \"Young\")\n",
        "df_filtered.show()\n"
      ],
      "metadata": {
        "id": "Hpd5JihssZjb"
      },
      "execution_count": null,
      "outputs": []
    }
  ]
}