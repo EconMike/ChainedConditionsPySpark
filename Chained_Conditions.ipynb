{
  "nbformat": 4,
  "nbformat_minor": 0,
  "metadata": {
    "colab": {
      "provenance": []
    },
    "kernelspec": {
      "name": "python3",
      "display_name": "Python 3"
    },
    "language_info": {
      "name": "python"
    }
  },
  "cells": [
    {
      "cell_type": "code",
      "execution_count": 1,
      "metadata": {
        "id": "Sp47NGMRp5ve"
      },
      "outputs": [],
      "source": [
        "!apt-get install openjdk-8-jdk-headless -qq > /dev/null\n",
        "!wget -q http://archive.apache.org/dist/spark/spark-3.1.1/spark-3.1.1-bin-hadoop3.2.tgz\n",
        "!tar xf spark-3.1.1-bin-hadoop3.2.tgz\n",
        "!pip install -q findspark\n",
        "import os"
      ]
    },
    {
      "cell_type": "code",
      "source": [
        "!apt-get update\n",
        "!apt-get install openjdk-11-jdk -y\n",
        "!pip install pyspark"
      ],
      "metadata": {
        "colab": {
          "base_uri": "https://localhost:8080/"
        },
        "id": "4XwUzK3hnM2E",
        "outputId": "ed3ca847-92e2-409f-8b31-31755e1d631d"
      },
      "execution_count": 2,
      "outputs": [
        {
          "output_type": "stream",
          "name": "stdout",
          "text": [
            "Get:1 https://cloud.r-project.org/bin/linux/ubuntu jammy-cran40/ InRelease [3,632 B]\n",
            "Get:2 https://developer.download.nvidia.com/compute/cuda/repos/ubuntu2204/x86_64  InRelease [1,581 B]\n",
            "Get:3 http://security.ubuntu.com/ubuntu jammy-security InRelease [129 kB]\n",
            "Get:4 https://r2u.stat.illinois.edu/ubuntu jammy InRelease [6,555 B]\n",
            "Hit:5 http://archive.ubuntu.com/ubuntu jammy InRelease\n",
            "Get:6 http://archive.ubuntu.com/ubuntu jammy-updates InRelease [128 kB]\n",
            "Get:7 https://developer.download.nvidia.com/compute/cuda/repos/ubuntu2204/x86_64  Packages [1,776 kB]\n",
            "Hit:8 https://ppa.launchpadcontent.net/deadsnakes/ppa/ubuntu jammy InRelease\n",
            "Hit:9 https://ppa.launchpadcontent.net/graphics-drivers/ppa/ubuntu jammy InRelease\n",
            "Get:10 https://r2u.stat.illinois.edu/ubuntu jammy/main amd64 Packages [2,750 kB]\n",
            "Hit:11 https://ppa.launchpadcontent.net/ubuntugis/ppa/ubuntu jammy InRelease\n",
            "Get:12 http://archive.ubuntu.com/ubuntu jammy-backports InRelease [127 kB]\n",
            "Get:13 https://r2u.stat.illinois.edu/ubuntu jammy/main all Packages [9,037 kB]\n",
            "Get:14 http://security.ubuntu.com/ubuntu jammy-security/main amd64 Packages [2,986 kB]\n",
            "Get:15 http://security.ubuntu.com/ubuntu jammy-security/universe amd64 Packages [1,249 kB]\n",
            "Get:16 http://archive.ubuntu.com/ubuntu jammy-updates/universe amd64 Packages [1,556 kB]\n",
            "Get:17 http://archive.ubuntu.com/ubuntu jammy-updates/main amd64 Packages [3,296 kB]\n",
            "Fetched 23.0 MB in 7s (3,511 kB/s)\n",
            "Reading package lists... Done\n",
            "W: Skipping acquire of configured file 'main/source/Sources' as repository 'https://r2u.stat.illinois.edu/ubuntu jammy InRelease' does not seem to provide it (sources.list entry misspelt?)\n",
            "Reading package lists... Done\n",
            "Building dependency tree... Done\n",
            "Reading state information... Done\n",
            "The following additional packages will be installed:\n",
            "  fonts-dejavu-core fonts-dejavu-extra libatk-wrapper-java\n",
            "  libatk-wrapper-java-jni libxt-dev libxxf86dga1 openjdk-11-jre x11-utils\n",
            "Suggested packages:\n",
            "  libxt-doc openjdk-11-demo openjdk-11-source visualvm mesa-utils\n",
            "The following NEW packages will be installed:\n",
            "  fonts-dejavu-core fonts-dejavu-extra libatk-wrapper-java\n",
            "  libatk-wrapper-java-jni libxt-dev libxxf86dga1 openjdk-11-jdk openjdk-11-jre\n",
            "  x11-utils\n",
            "0 upgraded, 9 newly installed, 0 to remove and 35 not upgraded.\n",
            "Need to get 6,907 kB of archives.\n",
            "After this operation, 16.8 MB of additional disk space will be used.\n",
            "Get:1 http://archive.ubuntu.com/ubuntu jammy/main amd64 fonts-dejavu-core all 2.37-2build1 [1,041 kB]\n",
            "Get:2 http://archive.ubuntu.com/ubuntu jammy/main amd64 fonts-dejavu-extra all 2.37-2build1 [2,041 kB]\n",
            "Get:3 http://archive.ubuntu.com/ubuntu jammy/main amd64 libxxf86dga1 amd64 2:1.1.5-0ubuntu3 [12.6 kB]\n",
            "Get:4 http://archive.ubuntu.com/ubuntu jammy/main amd64 x11-utils amd64 7.7+5build2 [206 kB]\n",
            "Get:5 http://archive.ubuntu.com/ubuntu jammy/main amd64 libatk-wrapper-java all 0.38.0-5build1 [53.1 kB]\n",
            "Get:6 http://archive.ubuntu.com/ubuntu jammy/main amd64 libatk-wrapper-java-jni amd64 0.38.0-5build1 [49.0 kB]\n",
            "Get:7 http://archive.ubuntu.com/ubuntu jammy/main amd64 libxt-dev amd64 1:1.2.1-1 [396 kB]\n",
            "Get:8 http://archive.ubuntu.com/ubuntu jammy-updates/main amd64 openjdk-11-jre amd64 11.0.27+6~us1-0ubuntu1~22.04 [214 kB]\n",
            "Get:9 http://archive.ubuntu.com/ubuntu jammy-updates/main amd64 openjdk-11-jdk amd64 11.0.27+6~us1-0ubuntu1~22.04 [2,895 kB]\n",
            "Fetched 6,907 kB in 1s (4,992 kB/s)\n",
            "Selecting previously unselected package fonts-dejavu-core.\n",
            "(Reading database ... 126460 files and directories currently installed.)\n",
            "Preparing to unpack .../0-fonts-dejavu-core_2.37-2build1_all.deb ...\n",
            "Unpacking fonts-dejavu-core (2.37-2build1) ...\n",
            "Selecting previously unselected package fonts-dejavu-extra.\n",
            "Preparing to unpack .../1-fonts-dejavu-extra_2.37-2build1_all.deb ...\n",
            "Unpacking fonts-dejavu-extra (2.37-2build1) ...\n",
            "Selecting previously unselected package libxxf86dga1:amd64.\n",
            "Preparing to unpack .../2-libxxf86dga1_2%3a1.1.5-0ubuntu3_amd64.deb ...\n",
            "Unpacking libxxf86dga1:amd64 (2:1.1.5-0ubuntu3) ...\n",
            "Selecting previously unselected package x11-utils.\n",
            "Preparing to unpack .../3-x11-utils_7.7+5build2_amd64.deb ...\n",
            "Unpacking x11-utils (7.7+5build2) ...\n",
            "Selecting previously unselected package libatk-wrapper-java.\n",
            "Preparing to unpack .../4-libatk-wrapper-java_0.38.0-5build1_all.deb ...\n",
            "Unpacking libatk-wrapper-java (0.38.0-5build1) ...\n",
            "Selecting previously unselected package libatk-wrapper-java-jni:amd64.\n",
            "Preparing to unpack .../5-libatk-wrapper-java-jni_0.38.0-5build1_amd64.deb ...\n",
            "Unpacking libatk-wrapper-java-jni:amd64 (0.38.0-5build1) ...\n",
            "Selecting previously unselected package libxt-dev:amd64.\n",
            "Preparing to unpack .../6-libxt-dev_1%3a1.2.1-1_amd64.deb ...\n",
            "Unpacking libxt-dev:amd64 (1:1.2.1-1) ...\n",
            "Selecting previously unselected package openjdk-11-jre:amd64.\n",
            "Preparing to unpack .../7-openjdk-11-jre_11.0.27+6~us1-0ubuntu1~22.04_amd64.deb ...\n",
            "Unpacking openjdk-11-jre:amd64 (11.0.27+6~us1-0ubuntu1~22.04) ...\n",
            "Selecting previously unselected package openjdk-11-jdk:amd64.\n",
            "Preparing to unpack .../8-openjdk-11-jdk_11.0.27+6~us1-0ubuntu1~22.04_amd64.deb ...\n",
            "Unpacking openjdk-11-jdk:amd64 (11.0.27+6~us1-0ubuntu1~22.04) ...\n",
            "Setting up libxxf86dga1:amd64 (2:1.1.5-0ubuntu3) ...\n",
            "Setting up openjdk-11-jre:amd64 (11.0.27+6~us1-0ubuntu1~22.04) ...\n",
            "Setting up libxt-dev:amd64 (1:1.2.1-1) ...\n",
            "Setting up fonts-dejavu-core (2.37-2build1) ...\n",
            "Setting up fonts-dejavu-extra (2.37-2build1) ...\n",
            "Setting up x11-utils (7.7+5build2) ...\n",
            "Setting up openjdk-11-jdk:amd64 (11.0.27+6~us1-0ubuntu1~22.04) ...\n",
            "update-alternatives: using /usr/lib/jvm/java-11-openjdk-amd64/bin/jconsole to provide /usr/bin/jconsole (jconsole) in auto mode\n",
            "Setting up libatk-wrapper-java (0.38.0-5build1) ...\n",
            "Setting up libatk-wrapper-java-jni:amd64 (0.38.0-5build1) ...\n",
            "Processing triggers for fontconfig (2.13.1-4.2ubuntu5) ...\n",
            "Processing triggers for hicolor-icon-theme (0.17-2) ...\n",
            "Processing triggers for libc-bin (2.35-0ubuntu3.8) ...\n",
            "/sbin/ldconfig.real: /usr/local/lib/libumf.so.0 is not a symbolic link\n",
            "\n",
            "/sbin/ldconfig.real: /usr/local/lib/libur_loader.so.0 is not a symbolic link\n",
            "\n",
            "/sbin/ldconfig.real: /usr/local/lib/libtbbbind.so.3 is not a symbolic link\n",
            "\n",
            "/sbin/ldconfig.real: /usr/local/lib/libtcm_debug.so.1 is not a symbolic link\n",
            "\n",
            "/sbin/ldconfig.real: /usr/local/lib/libtbbbind_2_5.so.3 is not a symbolic link\n",
            "\n",
            "/sbin/ldconfig.real: /usr/local/lib/libhwloc.so.15 is not a symbolic link\n",
            "\n",
            "/sbin/ldconfig.real: /usr/local/lib/libtcm.so.1 is not a symbolic link\n",
            "\n",
            "/sbin/ldconfig.real: /usr/local/lib/libtbb.so.12 is not a symbolic link\n",
            "\n",
            "/sbin/ldconfig.real: /usr/local/lib/libtbbbind_2_0.so.3 is not a symbolic link\n",
            "\n",
            "/sbin/ldconfig.real: /usr/local/lib/libur_adapter_opencl.so.0 is not a symbolic link\n",
            "\n",
            "/sbin/ldconfig.real: /usr/local/lib/libtbbmalloc_proxy.so.2 is not a symbolic link\n",
            "\n",
            "/sbin/ldconfig.real: /usr/local/lib/libtbbmalloc.so.2 is not a symbolic link\n",
            "\n",
            "/sbin/ldconfig.real: /usr/local/lib/libur_adapter_level_zero.so.0 is not a symbolic link\n",
            "\n",
            "Processing triggers for man-db (2.10.2-1) ...\n",
            "Processing triggers for mailcap (3.70+nmu1ubuntu1) ...\n",
            "Requirement already satisfied: pyspark in /usr/local/lib/python3.11/dist-packages (3.5.1)\n",
            "Requirement already satisfied: py4j==0.10.9.7 in /usr/local/lib/python3.11/dist-packages (from pyspark) (0.10.9.7)\n"
          ]
        }
      ]
    },
    {
      "cell_type": "code",
      "source": [
        "os.environ[\"JAVA_HOME\"] = \"/usr/lib/jvm/java-11-openjdk-amd64\"\n",
        "os.environ[\"SPARK_HOME\"] = \"/usr/local/lib/python3.11/dist-packages/pyspark\""
      ],
      "metadata": {
        "id": "T0B2JDZLpMnp"
      },
      "execution_count": 3,
      "outputs": []
    },
    {
      "cell_type": "code",
      "source": [
        "!pip install pyngrok\n",
        "from pyngrok import ngrok"
      ],
      "metadata": {
        "colab": {
          "base_uri": "https://localhost:8080/"
        },
        "id": "OHWm7ufbpMhJ",
        "outputId": "c9ba0665-ef00-4095-efc9-1be20dafba99"
      },
      "execution_count": 4,
      "outputs": [
        {
          "output_type": "stream",
          "name": "stdout",
          "text": [
            "Collecting pyngrok\n",
            "  Downloading pyngrok-7.2.11-py3-none-any.whl.metadata (9.4 kB)\n",
            "Requirement already satisfied: PyYAML>=5.1 in /usr/local/lib/python3.11/dist-packages (from pyngrok) (6.0.2)\n",
            "Downloading pyngrok-7.2.11-py3-none-any.whl (25 kB)\n",
            "Installing collected packages: pyngrok\n",
            "Successfully installed pyngrok-7.2.11\n"
          ]
        }
      ]
    },
    {
      "cell_type": "code",
      "source": [
        "#bring in Pyspark functions into your session\n",
        "from pyspark.sql.functions import *\n",
        "from pyspark.sql.functions import col"
      ],
      "metadata": {
        "id": "EEtZLvfIpMYq"
      },
      "execution_count": 5,
      "outputs": []
    },
    {
      "cell_type": "code",
      "source": [
        "#Start our Pyspark session\n",
        "from pyspark.sql import SparkSession\n",
        "spark = SparkSession.builder.master(\"local[*]\").getOrCreate()"
      ],
      "metadata": {
        "id": "VB-WMviHpSxM"
      },
      "execution_count": 6,
      "outputs": []
    },
    {
      "cell_type": "code",
      "source": [
        "\n",
        "#create our data\n",
        "data = [\n",
        "    (\"Alice\", 25, \"F\"),\n",
        "    (\"Bob\", 30, \"M\"),\n",
        "    (\"Charlie\", 35, \"M\"),\n",
        "    (\"Diana\", 40, \"F\")\n",
        "]\n",
        "\n",
        "columns = [\"name\", \"age\", \"gender\"]\n",
        "df = spark.createDataFrame(data, columns)\n",
        "df.show()\n"
      ],
      "metadata": {
        "colab": {
          "base_uri": "https://localhost:8080/"
        },
        "id": "aeoAjvZApStL",
        "outputId": "2556695f-8fe2-4b1b-c0fc-708165af3cc4"
      },
      "execution_count": 7,
      "outputs": [
        {
          "output_type": "stream",
          "name": "stdout",
          "text": [
            "+-------+---+------+\n",
            "|   name|age|gender|\n",
            "+-------+---+------+\n",
            "|  Alice| 25|     F|\n",
            "|    Bob| 30|     M|\n",
            "|Charlie| 35|     M|\n",
            "|  Diana| 40|     F|\n",
            "+-------+---+------+\n",
            "\n"
          ]
        }
      ]
    },
    {
      "cell_type": "markdown",
      "source": [
        "# The basics"
      ],
      "metadata": {
        "id": "vXycOU5vpZg8"
      }
    },
    {
      "cell_type": "markdown",
      "source": [
        "# Conditions with & (AND)"
      ],
      "metadata": {
        "id": "XAfPfZdPptbz"
      }
    },
    {
      "cell_type": "code",
      "source": [
        "#Get people aged over 30 AND female:\n",
        "\n",
        "df_filtered = df.filter( (col(\"age\") > 30) & (col(\"gender\") == \"F\") )\n",
        "df_filtered.show()\n"
      ],
      "metadata": {
        "colab": {
          "base_uri": "https://localhost:8080/"
        },
        "id": "i4rZbFRlpSmz",
        "outputId": "407a6969-9a4d-47c3-c561-c890e0e94bbc"
      },
      "execution_count": 8,
      "outputs": [
        {
          "output_type": "stream",
          "name": "stdout",
          "text": [
            "+-----+---+------+\n",
            "| name|age|gender|\n",
            "+-----+---+------+\n",
            "|Diana| 40|     F|\n",
            "+-----+---+------+\n",
            "\n"
          ]
        }
      ]
    },
    {
      "cell_type": "markdown",
      "source": [
        "# Conditions with | (OR)"
      ],
      "metadata": {
        "id": "DAakKTqFnL0b"
      }
    },
    {
      "cell_type": "code",
      "source": [
        "#Get people aged over 30 OR female:\n",
        "\n",
        "df_filtered = df.filter( (col(\"age\") > 30) | (col(\"gender\") == \"F\") )\n",
        "df_filtered.show()\n"
      ],
      "metadata": {
        "colab": {
          "base_uri": "https://localhost:8080/"
        },
        "id": "64lzSYVdqAzj",
        "outputId": "8a009759-53ec-450e-a6cd-9a1f24e74069"
      },
      "execution_count": 10,
      "outputs": [
        {
          "output_type": "stream",
          "name": "stdout",
          "text": [
            "+-------+---+------+\n",
            "|   name|age|gender|\n",
            "+-------+---+------+\n",
            "|  Alice| 25|     F|\n",
            "|Charlie| 35|     M|\n",
            "|  Diana| 40|     F|\n",
            "+-------+---+------+\n",
            "\n"
          ]
        }
      ]
    },
    {
      "cell_type": "markdown",
      "source": [
        "# NOT Condition with ~"
      ],
      "metadata": {
        "id": "JxQaOjcYqPFD"
      }
    },
    {
      "cell_type": "code",
      "source": [
        "df_filtered = df.filter( ~(col(\"gender\") == \"F\") )\n",
        "df_filtered.show()\n"
      ],
      "metadata": {
        "colab": {
          "base_uri": "https://localhost:8080/"
        },
        "id": "tsZ23f_oqTTT",
        "outputId": "a551cb73-7faa-44fb-94f3-0e72705c8e63"
      },
      "execution_count": 11,
      "outputs": [
        {
          "output_type": "stream",
          "name": "stdout",
          "text": [
            "+-------+---+------+\n",
            "|   name|age|gender|\n",
            "+-------+---+------+\n",
            "|    Bob| 30|     M|\n",
            "|Charlie| 35|     M|\n",
            "+-------+---+------+\n",
            "\n"
          ]
        }
      ]
    },
    {
      "cell_type": "markdown",
      "source": [
        "#Chained Conditions\n"
      ],
      "metadata": {
        "id": "qhJG9Y9cqX_r"
      }
    },
    {
      "cell_type": "code",
      "source": [
        "#Create our data\n",
        "data = [\n",
        "    (\"Alice\", 25, \"F\", 60000),\n",
        "    (\"Bob\", 30, \"M\", 48000),\n",
        "    (\"Charlie\", 35, \"M\", 70000),\n",
        "    (\"Diana\", 40, \"F\", 52000),\n",
        "    (\"Evan\", 28, \"M\", 35000),\n",
        "    (\"Fiona\", 32, \"F\", 75000)\n",
        "]\n",
        "\n",
        "columns = [\"name\", \"age\", \"gender\", \"salary\"]\n",
        "df = spark.createDataFrame(data, columns)\n",
        "df.show()"
      ],
      "metadata": {
        "colab": {
          "base_uri": "https://localhost:8080/"
        },
        "id": "uhr970X-qXiL",
        "outputId": "ab3549ce-4872-42bc-e74f-32d838d7d870"
      },
      "execution_count": 12,
      "outputs": [
        {
          "output_type": "stream",
          "name": "stdout",
          "text": [
            "+-------+---+------+------+\n",
            "|   name|age|gender|salary|\n",
            "+-------+---+------+------+\n",
            "|  Alice| 25|     F| 60000|\n",
            "|    Bob| 30|     M| 48000|\n",
            "|Charlie| 35|     M| 70000|\n",
            "|  Diana| 40|     F| 52000|\n",
            "|   Evan| 28|     M| 35000|\n",
            "|  Fiona| 32|     F| 75000|\n",
            "+-------+---+------+------+\n",
            "\n"
          ]
        }
      ]
    },
    {
      "cell_type": "markdown",
      "source": [
        "# Show me who are over 30 years old and whose Salary > 50,000, also include any females who are under 30.\n"
      ],
      "metadata": {
        "id": "3NP2T1PhrDei"
      }
    },
    {
      "cell_type": "code",
      "source": [
        "\n",
        "df_filtered = df.filter(\n",
        "    ((col(\"age\") > 30) & (col(\"salary\") > 50000)) |\n",
        "    ((col(\"gender\") == \"F\") & (col(\"age\") < 30))\n",
        ")\n",
        "df_filtered.show()\n"
      ],
      "metadata": {
        "colab": {
          "base_uri": "https://localhost:8080/"
        },
        "id": "V_LLp1XaqphD",
        "outputId": "3b0043a1-4685-4266-aa32-ca45a98d13f6"
      },
      "execution_count": 15,
      "outputs": [
        {
          "output_type": "stream",
          "name": "stdout",
          "text": [
            "+-------+---+------+------+\n",
            "|   name|age|gender|salary|\n",
            "+-------+---+------+------+\n",
            "|  Alice| 25|     F| 60000|\n",
            "|Charlie| 35|     M| 70000|\n",
            "|  Diana| 40|     F| 52000|\n",
            "|  Fiona| 32|     F| 75000|\n",
            "+-------+---+------+------+\n",
            "\n"
          ]
        }
      ]
    },
    {
      "cell_type": "markdown",
      "source": [
        "# Show me anyhone whos name starts with 'A' or 'F' and  salary above 50,000\n"
      ],
      "metadata": {
        "id": "7Td_LgKbrl9U"
      }
    },
    {
      "cell_type": "code",
      "source": [
        "df_filtered = df.filter(\n",
        "    (col(\"name\").startswith(\"A\") | col(\"name\").startswith(\"F\")) &\n",
        "    (col(\"salary\") > 50000)\n",
        ")\n",
        "\n",
        "df_filtered.show()\n"
      ],
      "metadata": {
        "colab": {
          "base_uri": "https://localhost:8080/"
        },
        "id": "gkwl0njLrBa6",
        "outputId": "8af60111-1907-4dd3-c36e-1ff3904605ba"
      },
      "execution_count": 16,
      "outputs": [
        {
          "output_type": "stream",
          "name": "stdout",
          "text": [
            "+-----+---+------+------+\n",
            "| name|age|gender|salary|\n",
            "+-----+---+------+------+\n",
            "|Alice| 25|     F| 60000|\n",
            "|Fiona| 32|     F| 75000|\n",
            "+-----+---+------+------+\n",
            "\n"
          ]
        }
      ]
    },
    {
      "cell_type": "markdown",
      "source": [
        "# Filter rows where salary is not < 50,000 OR Age < 30"
      ],
      "metadata": {
        "id": "GCThXWk6u1sz"
      }
    },
    {
      "cell_type": "code",
      "source": [
        "\n",
        "\n",
        "df_filtered = df.filter(\n",
        "    ~((col(\"salary\") < 50000) | (col(\"age\") < 30))\n",
        ")\n",
        "df_filtered.show()\n"
      ],
      "metadata": {
        "colab": {
          "base_uri": "https://localhost:8080/"
        },
        "id": "O_kR8Xc9u2IU",
        "outputId": "45d7fa49-fcde-499c-8b23-aac291fc24f7"
      },
      "execution_count": 21,
      "outputs": [
        {
          "output_type": "stream",
          "name": "stdout",
          "text": [
            "+-------+---+------+------+\n",
            "|   name|age|gender|salary|\n",
            "+-------+---+------+------+\n",
            "|Charlie| 35|     M| 70000|\n",
            "|  Diana| 40|     F| 52000|\n",
            "|  Fiona| 32|     F| 75000|\n",
            "+-------+---+------+------+\n",
            "\n"
          ]
        }
      ]
    },
    {
      "cell_type": "markdown",
      "source": [
        "#Add a new column high_earner that is Yes if salary > 60,000 else No, then filter"
      ],
      "metadata": {
        "id": "chjUY4XWsJnS"
      }
    },
    {
      "cell_type": "code",
      "source": [
        "df2 = df.withColumn(\n",
        "    \"high_earner\",\n",
        "    when(col(\"salary\") > 60000, \"Yes\").otherwise(\"No\")\n",
        ")\n",
        "\n",
        "df_filtered = df2.filter(col(\"high_earner\") == \"Yes\")\n",
        "df_filtered.show()\n"
      ],
      "metadata": {
        "colab": {
          "base_uri": "https://localhost:8080/"
        },
        "id": "tpKqOVJlsLzD",
        "outputId": "1eef1d09-d2e4-4985-d190-fde2220552fd"
      },
      "execution_count": 17,
      "outputs": [
        {
          "output_type": "stream",
          "name": "stdout",
          "text": [
            "+-------+---+------+------+-----------+\n",
            "|   name|age|gender|salary|high_earner|\n",
            "+-------+---+------+------+-----------+\n",
            "|Charlie| 35|     M| 70000|        Yes|\n",
            "|  Fiona| 32|     F| 75000|        Yes|\n",
            "+-------+---+------+------+-----------+\n",
            "\n"
          ]
        }
      ]
    },
    {
      "cell_type": "markdown",
      "source": [
        "#Create a new column that categorizes age group, then fliter"
      ],
      "metadata": {
        "id": "cVsK-vBKsaeC"
      }
    },
    {
      "cell_type": "code",
      "source": [
        "df2 = df.withColumn(\n",
        "    \"age_group\",\n",
        "    when(col(\"age\") < 30, \"Young\")\n",
        "    .when((col(\"age\") >= 30) & (col(\"age\") <= 40), \"Middle-aged\")\n",
        "    .otherwise(\"Senior\")\n",
        ")\n",
        "\n",
        "df_filtered = df2.filter(col(\"age_group\") == \"Young\")\n",
        "df_filtered.show()\n"
      ],
      "metadata": {
        "colab": {
          "base_uri": "https://localhost:8080/"
        },
        "id": "Hpd5JihssZjb",
        "outputId": "7f2f54af-391f-4e58-c225-2a380d2756a2"
      },
      "execution_count": 20,
      "outputs": [
        {
          "output_type": "stream",
          "name": "stdout",
          "text": [
            "+-----+---+------+------+---------+\n",
            "| name|age|gender|salary|age_group|\n",
            "+-----+---+------+------+---------+\n",
            "|Alice| 25|     F| 60000|    Young|\n",
            "| Evan| 28|     M| 35000|    Young|\n",
            "+-----+---+------+------+---------+\n",
            "\n"
          ]
        }
      ]
    }
  ]
}